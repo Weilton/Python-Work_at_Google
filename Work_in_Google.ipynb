{
 "cells": [
  {
   "cell_type": "code",
   "execution_count": 1,
   "metadata": {},
   "outputs": [],
   "source": [
    "import pandas as pd\n",
    "import numpy as np\n",
    "import matplotlib.pyplot as plt\n",
    "import seaborn as sns"
   ]
  },
  {
   "cell_type": "code",
   "execution_count": 5,
   "metadata": {},
   "outputs": [
    {
     "data": {
      "text/html": [
       "<div>\n",
       "<style scoped>\n",
       "    .dataframe tbody tr th:only-of-type {\n",
       "        vertical-align: middle;\n",
       "    }\n",
       "\n",
       "    .dataframe tbody tr th {\n",
       "        vertical-align: top;\n",
       "    }\n",
       "\n",
       "    .dataframe thead th {\n",
       "        text-align: right;\n",
       "    }\n",
       "</style>\n",
       "<table border=\"1\" class=\"dataframe\">\n",
       "  <thead>\n",
       "    <tr style=\"text-align: right;\">\n",
       "      <th></th>\n",
       "      <th>Company</th>\n",
       "      <th>Title</th>\n",
       "      <th>Category</th>\n",
       "      <th>Location</th>\n",
       "      <th>Responsibilities</th>\n",
       "      <th>Minimum Qualifications</th>\n",
       "      <th>Preferred Qualifications</th>\n",
       "    </tr>\n",
       "  </thead>\n",
       "  <tbody>\n",
       "    <tr>\n",
       "      <th>0</th>\n",
       "      <td>Google</td>\n",
       "      <td>Google Cloud Program Manager</td>\n",
       "      <td>Program Management</td>\n",
       "      <td>Singapore</td>\n",
       "      <td>Shape, shepherd, ship, and show technical prog...</td>\n",
       "      <td>BA/BS degree or equivalent practical experienc...</td>\n",
       "      <td>Experience in the business technology market a...</td>\n",
       "    </tr>\n",
       "    <tr>\n",
       "      <th>1</th>\n",
       "      <td>Google</td>\n",
       "      <td>Supplier Development Engineer (SDE), Cable/Con...</td>\n",
       "      <td>Manufacturing &amp; Supply Chain</td>\n",
       "      <td>Shanghai, China</td>\n",
       "      <td>Drive cross-functional activities in the suppl...</td>\n",
       "      <td>BS degree in an Engineering discipline or equi...</td>\n",
       "      <td>BSEE, BSME or BSIE degree.\\nExperience of usin...</td>\n",
       "    </tr>\n",
       "    <tr>\n",
       "      <th>2</th>\n",
       "      <td>Google</td>\n",
       "      <td>Data Analyst, Product and Tools Operations, Go...</td>\n",
       "      <td>Technical Solutions</td>\n",
       "      <td>New York, NY, United States</td>\n",
       "      <td>Collect and analyze data to draw insight and i...</td>\n",
       "      <td>Bachelor’s degree in Business, Economics, Stat...</td>\n",
       "      <td>Experience partnering or consulting cross-func...</td>\n",
       "    </tr>\n",
       "    <tr>\n",
       "      <th>3</th>\n",
       "      <td>Google</td>\n",
       "      <td>Developer Advocate, Partner Engineering</td>\n",
       "      <td>Developer Relations</td>\n",
       "      <td>Mountain View, CA, United States</td>\n",
       "      <td>Work one-on-one with the top Android, iOS, and...</td>\n",
       "      <td>BA/BS degree in Computer Science or equivalent...</td>\n",
       "      <td>Experience as a software developer, architect,...</td>\n",
       "    </tr>\n",
       "    <tr>\n",
       "      <th>4</th>\n",
       "      <td>Google</td>\n",
       "      <td>Program Manager, Audio Visual (AV) Deployments</td>\n",
       "      <td>Program Management</td>\n",
       "      <td>Sunnyvale, CA, United States</td>\n",
       "      <td>Plan requirements with internal customers.\\nPr...</td>\n",
       "      <td>BA/BS degree or equivalent practical experienc...</td>\n",
       "      <td>CTS Certification.\\nExperience in the construc...</td>\n",
       "    </tr>\n",
       "  </tbody>\n",
       "</table>\n",
       "</div>"
      ],
      "text/plain": [
       "  Company                                              Title  \\\n",
       "0  Google                       Google Cloud Program Manager   \n",
       "1  Google  Supplier Development Engineer (SDE), Cable/Con...   \n",
       "2  Google  Data Analyst, Product and Tools Operations, Go...   \n",
       "3  Google            Developer Advocate, Partner Engineering   \n",
       "4  Google     Program Manager, Audio Visual (AV) Deployments   \n",
       "\n",
       "                       Category                          Location  \\\n",
       "0            Program Management                         Singapore   \n",
       "1  Manufacturing & Supply Chain                   Shanghai, China   \n",
       "2           Technical Solutions       New York, NY, United States   \n",
       "3           Developer Relations  Mountain View, CA, United States   \n",
       "4            Program Management      Sunnyvale, CA, United States   \n",
       "\n",
       "                                    Responsibilities  \\\n",
       "0  Shape, shepherd, ship, and show technical prog...   \n",
       "1  Drive cross-functional activities in the suppl...   \n",
       "2  Collect and analyze data to draw insight and i...   \n",
       "3  Work one-on-one with the top Android, iOS, and...   \n",
       "4  Plan requirements with internal customers.\\nPr...   \n",
       "\n",
       "                              Minimum Qualifications  \\\n",
       "0  BA/BS degree or equivalent practical experienc...   \n",
       "1  BS degree in an Engineering discipline or equi...   \n",
       "2  Bachelor’s degree in Business, Economics, Stat...   \n",
       "3  BA/BS degree in Computer Science or equivalent...   \n",
       "4  BA/BS degree or equivalent practical experienc...   \n",
       "\n",
       "                            Preferred Qualifications  \n",
       "0  Experience in the business technology market a...  \n",
       "1  BSEE, BSME or BSIE degree.\\nExperience of usin...  \n",
       "2  Experience partnering or consulting cross-func...  \n",
       "3  Experience as a software developer, architect,...  \n",
       "4  CTS Certification.\\nExperience in the construc...  "
      ]
     },
     "execution_count": 5,
     "metadata": {},
     "output_type": "execute_result"
    }
   ],
   "source": [
    "data = pd.read_csv(\"dataset/job_skills.csv\")\n",
    "data.head()"
   ]
  },
  {
   "cell_type": "code",
   "execution_count": 7,
   "metadata": {},
   "outputs": [
    {
     "data": {
      "text/plain": [
       "Google     1227\n",
       "YouTube      23\n",
       "Name: Company, dtype: int64"
      ]
     },
     "execution_count": 7,
     "metadata": {},
     "output_type": "execute_result"
    }
   ],
   "source": [
    "#See all the company\n",
    "data.Company.value_counts()"
   ]
  },
  {
   "cell_type": "code",
   "execution_count": 8,
   "metadata": {},
   "outputs": [],
   "source": [
    "#Exclude YouTube\n",
    "data = data[data.Company != 'YouTube']"
   ]
  },
  {
   "cell_type": "code",
   "execution_count": 9,
   "metadata": {},
   "outputs": [
    {
     "data": {
      "text/plain": [
       "Google    1227\n",
       "Name: Company, dtype: int64"
      ]
     },
     "execution_count": 9,
     "metadata": {},
     "output_type": "execute_result"
    }
   ],
   "source": [
    "#See all the company\n",
    "data.Company.value_counts()"
   ]
  },
  {
   "cell_type": "code",
   "execution_count": 12,
   "metadata": {},
   "outputs": [
    {
     "data": {
      "text/plain": [
       "Company                      0\n",
       "Title                        0\n",
       "Category                     0\n",
       "Location                     0\n",
       "Responsibilities            15\n",
       "Minimum Qualifications      14\n",
       "Preferred Qualifications    14\n",
       "dtype: int64"
      ]
     },
     "execution_count": 12,
     "metadata": {},
     "output_type": "execute_result"
    }
   ],
   "source": [
    "#Check null values\n",
    "pd.isnull(data).sum()"
   ]
  },
  {
   "cell_type": "code",
   "execution_count": 13,
   "metadata": {},
   "outputs": [],
   "source": [
    "#Drop null values\n",
    "data = data.dropna(how='any', axis='rows')"
   ]
  },
  {
   "cell_type": "code",
   "execution_count": 14,
   "metadata": {},
   "outputs": [
    {
     "data": {
      "text/plain": [
       "Company                     0\n",
       "Title                       0\n",
       "Category                    0\n",
       "Location                    0\n",
       "Responsibilities            0\n",
       "Minimum Qualifications      0\n",
       "Preferred Qualifications    0\n",
       "dtype: int64"
      ]
     },
     "execution_count": 14,
     "metadata": {},
     "output_type": "execute_result"
    }
   ],
   "source": [
    "#Check null values\n",
    "pd.isnull(data).sum()"
   ]
  },
  {
   "cell_type": "code",
   "execution_count": 17,
   "metadata": {},
   "outputs": [],
   "source": [
    "#Modify the column name\n",
    "data = data.rename(columns={'Minimum Qualifications': 'Minimum_Qualifications', 'Preferred Qualifications': 'Preferred_Qualifications'})"
   ]
  },
  {
   "cell_type": "code",
   "execution_count": 19,
   "metadata": {},
   "outputs": [
    {
     "data": {
      "text/html": [
       "<div>\n",
       "<style scoped>\n",
       "    .dataframe tbody tr th:only-of-type {\n",
       "        vertical-align: middle;\n",
       "    }\n",
       "\n",
       "    .dataframe tbody tr th {\n",
       "        vertical-align: top;\n",
       "    }\n",
       "\n",
       "    .dataframe thead th {\n",
       "        text-align: right;\n",
       "    }\n",
       "</style>\n",
       "<table border=\"1\" class=\"dataframe\">\n",
       "  <thead>\n",
       "    <tr style=\"text-align: right;\">\n",
       "      <th></th>\n",
       "      <th>Company</th>\n",
       "      <th>Title</th>\n",
       "      <th>Category</th>\n",
       "      <th>Location</th>\n",
       "      <th>Responsibilities</th>\n",
       "      <th>Minimum_Qualifications</th>\n",
       "      <th>Preferred_Qualifications</th>\n",
       "    </tr>\n",
       "  </thead>\n",
       "  <tbody>\n",
       "    <tr>\n",
       "      <th>0</th>\n",
       "      <td>Google</td>\n",
       "      <td>Google Cloud Program Manager</td>\n",
       "      <td>Program Management</td>\n",
       "      <td>Singapore</td>\n",
       "      <td>Shape, shepherd, ship, and show technical prog...</td>\n",
       "      <td>BA/BS degree or equivalent practical experienc...</td>\n",
       "      <td>Experience in the business technology market a...</td>\n",
       "    </tr>\n",
       "  </tbody>\n",
       "</table>\n",
       "</div>"
      ],
      "text/plain": [
       "  Company                         Title            Category   Location  \\\n",
       "0  Google  Google Cloud Program Manager  Program Management  Singapore   \n",
       "\n",
       "                                    Responsibilities  \\\n",
       "0  Shape, shepherd, ship, and show technical prog...   \n",
       "\n",
       "                              Minimum_Qualifications  \\\n",
       "0  BA/BS degree or equivalent practical experienc...   \n",
       "\n",
       "                            Preferred_Qualifications  \n",
       "0  Experience in the business technology market a...  "
      ]
     },
     "execution_count": 19,
     "metadata": {},
     "output_type": "execute_result"
    }
   ],
   "source": [
    "data.head(1)"
   ]
  },
  {
   "cell_type": "code",
   "execution_count": 22,
   "metadata": {},
   "outputs": [
    {
     "name": "stdout",
     "output_type": "stream",
     "text": [
      "{'BA': 890, 'BS': 860, 'Master': 80, 'PhD': 8, 'MBA': 71}\n"
     ]
    }
   ],
   "source": [
    "#Degree requirements\n",
    "Degree = ['BA', 'BS', 'Master', 'PhD', 'MBA']\n",
    "\n",
    "Degrees = dict((x,0) for x in Degree)\n",
    "for i in Degree:\n",
    "    x = data['Minimum_Qualifications'].str.contains(i).sum()\n",
    "    if i in Degrees:\n",
    "        Degrees[i] = x\n",
    "\n",
    "print(Degrees)"
   ]
  },
  {
   "cell_type": "code",
   "execution_count": 23,
   "metadata": {},
   "outputs": [
    {
     "data": {
      "text/html": [
       "<div>\n",
       "<style scoped>\n",
       "    .dataframe tbody tr th:only-of-type {\n",
       "        vertical-align: middle;\n",
       "    }\n",
       "\n",
       "    .dataframe tbody tr th {\n",
       "        vertical-align: top;\n",
       "    }\n",
       "\n",
       "    .dataframe thead th {\n",
       "        text-align: right;\n",
       "    }\n",
       "</style>\n",
       "<table border=\"1\" class=\"dataframe\">\n",
       "  <thead>\n",
       "    <tr style=\"text-align: right;\">\n",
       "      <th></th>\n",
       "      <th>Degree</th>\n",
       "      <th>Count</th>\n",
       "    </tr>\n",
       "  </thead>\n",
       "  <tbody>\n",
       "    <tr>\n",
       "      <th>0</th>\n",
       "      <td>BA</td>\n",
       "      <td>890.0</td>\n",
       "    </tr>\n",
       "    <tr>\n",
       "      <th>1</th>\n",
       "      <td>BS</td>\n",
       "      <td>860.0</td>\n",
       "    </tr>\n",
       "    <tr>\n",
       "      <th>2</th>\n",
       "      <td>Master</td>\n",
       "      <td>80.0</td>\n",
       "    </tr>\n",
       "    <tr>\n",
       "      <th>3</th>\n",
       "      <td>MBA</td>\n",
       "      <td>71.0</td>\n",
       "    </tr>\n",
       "    <tr>\n",
       "      <th>4</th>\n",
       "      <td>PhD</td>\n",
       "      <td>8.0</td>\n",
       "    </tr>\n",
       "  </tbody>\n",
       "</table>\n",
       "</div>"
      ],
      "text/plain": [
       "   Degree  Count\n",
       "0      BA  890.0\n",
       "1      BS  860.0\n",
       "2  Master   80.0\n",
       "3     MBA   71.0\n",
       "4     PhD    8.0"
      ]
     },
     "execution_count": 23,
     "metadata": {},
     "output_type": "execute_result"
    }
   ],
   "source": [
    "degree_requiriment = sorted(Degrees.items(), key=lambda x: x[1], reverse=True)\n",
    "degree = pd.DataFrame(degree_requiriment, columns=['Degree', 'Count'])\n",
    "degree['Count'] = degree.Count.astype('float')\n",
    "degree"
   ]
  },
  {
   "cell_type": "code",
   "execution_count": 25,
   "metadata": {},
   "outputs": [
    {
     "data": {
      "text/plain": [
       "Text(0.5,0.98,'Degrees_Distribution')"
      ]
     },
     "execution_count": 25,
     "metadata": {},
     "output_type": "execute_result"
    },
    {
     "data": {
      "image/png": "[encoded data removed]",
      "text/plain": [
       "<matplotlib.figure.Figure at 0x348a5c0>"
      ]
     },
     "metadata": {},
     "output_type": "display_data"
    }
   ],
   "source": [
    "degree.plot.barh(x='Degree', y='Count', legend=False)\n",
    "plt.suptitle('Degrees_Distribution', fontsize=14)"
   ]
  },
  {
   "cell_type": "code",
   "execution_count": 29,
   "metadata": {},
   "outputs": [
    {
     "name": "stdout",
     "output_type": "stream",
     "text": [
      "{'Python': 96, 'Java': 97, 'C#': 15, 'PHP': 7, 'Javascript': 3, 'Ruby': 14, 'Perl': 6, 'SQL': 69, 'Go': 98}\n"
     ]
    }
   ],
   "source": [
    "#Language Program required\n",
    "Programming_Languages = ['Python', 'Java','C#', 'PHP', 'Javascript', 'Ruby', 'Perl', 'SQL','Go']\n",
    "\n",
    "languages = dict((x,0) for x in Programming_Languages)\n",
    "for i in languages:\n",
    "    x = data['Minimum_Qualifications'].str.contains(i).sum()\n",
    "    if i in languages:\n",
    "        languages[i] = x\n",
    "\n",
    "print(languages)"
   ]
  },
  {
   "cell_type": "code",
   "execution_count": 30,
   "metadata": {},
   "outputs": [
    {
     "data": {
      "text/html": [
       "<div>\n",
       "<style scoped>\n",
       "    .dataframe tbody tr th:only-of-type {\n",
       "        vertical-align: middle;\n",
       "    }\n",
       "\n",
       "    .dataframe tbody tr th {\n",
       "        vertical-align: top;\n",
       "    }\n",
       "\n",
       "    .dataframe thead th {\n",
       "        text-align: right;\n",
       "    }\n",
       "</style>\n",
       "<table border=\"1\" class=\"dataframe\">\n",
       "  <thead>\n",
       "    <tr style=\"text-align: right;\">\n",
       "      <th></th>\n",
       "      <th>Language</th>\n",
       "      <th>Count</th>\n",
       "    </tr>\n",
       "  </thead>\n",
       "  <tbody>\n",
       "    <tr>\n",
       "      <th>0</th>\n",
       "      <td>Go</td>\n",
       "      <td>98.0</td>\n",
       "    </tr>\n",
       "    <tr>\n",
       "      <th>1</th>\n",
       "      <td>Java</td>\n",
       "      <td>97.0</td>\n",
       "    </tr>\n",
       "    <tr>\n",
       "      <th>2</th>\n",
       "      <td>Python</td>\n",
       "      <td>96.0</td>\n",
       "    </tr>\n",
       "    <tr>\n",
       "      <th>3</th>\n",
       "      <td>SQL</td>\n",
       "      <td>69.0</td>\n",
       "    </tr>\n",
       "    <tr>\n",
       "      <th>4</th>\n",
       "      <td>C#</td>\n",
       "      <td>15.0</td>\n",
       "    </tr>\n",
       "    <tr>\n",
       "      <th>5</th>\n",
       "      <td>Ruby</td>\n",
       "      <td>14.0</td>\n",
       "    </tr>\n",
       "    <tr>\n",
       "      <th>6</th>\n",
       "      <td>PHP</td>\n",
       "      <td>7.0</td>\n",
       "    </tr>\n",
       "    <tr>\n",
       "      <th>7</th>\n",
       "      <td>Perl</td>\n",
       "      <td>6.0</td>\n",
       "    </tr>\n",
       "    <tr>\n",
       "      <th>8</th>\n",
       "      <td>Javascript</td>\n",
       "      <td>3.0</td>\n",
       "    </tr>\n",
       "  </tbody>\n",
       "</table>\n",
       "</div>"
      ],
      "text/plain": [
       "     Language  Count\n",
       "0          Go   98.0\n",
       "1        Java   97.0\n",
       "2      Python   96.0\n",
       "3         SQL   69.0\n",
       "4          C#   15.0\n",
       "5        Ruby   14.0\n",
       "6         PHP    7.0\n",
       "7        Perl    6.0\n",
       "8  Javascript    3.0"
      ]
     },
     "execution_count": 30,
     "metadata": {},
     "output_type": "execute_result"
    }
   ],
   "source": [
    "languages_requirement = sorted(languages.items(), key=lambda x: x[1], reverse=True)\n",
    "language = pd.DataFrame(languages_requirement, columns=['Language', 'Count'])\n",
    "language['Count'] = language.Count.astype('float')\n",
    "language"
   ]
  },
  {
   "cell_type": "code",
   "execution_count": 37,
   "metadata": {},
   "outputs": [
    {
     "data": {
      "text/plain": [
       "Text(0.5,0.98,'Languages Distribution')"
      ]
     },
     "execution_count": 37,
     "metadata": {},
     "output_type": "execute_result"
    },
    {
     "data": {
      "image/png": "[encoded data removed]",
      "text/plain": [
       "<matplotlib.figure.Figure at 0xd712c88>"
      ]
     },
     "metadata": {},
     "output_type": "display_data"
    }
   ],
   "source": [
    "language.plot.barh(x='Language', y='Count', legend=False)\n",
    "plt.suptitle('Languages Distribution', fontsize=14)"
   ]
  },
  {
   "cell_type": "code",
   "execution_count": 41,
   "metadata": {},
   "outputs": [
    {
     "data": {
      "text/html": [
       "<div>\n",
       "<style scoped>\n",
       "    .dataframe tbody tr th:only-of-type {\n",
       "        vertical-align: middle;\n",
       "    }\n",
       "\n",
       "    .dataframe tbody tr th {\n",
       "        vertical-align: top;\n",
       "    }\n",
       "\n",
       "    .dataframe thead th {\n",
       "        text-align: right;\n",
       "    }\n",
       "</style>\n",
       "<table border=\"1\" class=\"dataframe\">\n",
       "  <thead>\n",
       "    <tr style=\"text-align: right;\">\n",
       "      <th></th>\n",
       "      <th>Company</th>\n",
       "      <th>Title</th>\n",
       "      <th>Category</th>\n",
       "      <th>Location</th>\n",
       "      <th>Responsibilities</th>\n",
       "      <th>Minimum_Qualifications</th>\n",
       "      <th>Preferred_Qualifications</th>\n",
       "    </tr>\n",
       "  </thead>\n",
       "  <tbody>\n",
       "    <tr>\n",
       "      <th>2</th>\n",
       "      <td>Google</td>\n",
       "      <td>Data Analyst, Product and Tools Operations, Go...</td>\n",
       "      <td>Technical Solutions</td>\n",
       "      <td>New York, NY, United States</td>\n",
       "      <td>Collect and analyze data to draw insight and i...</td>\n",
       "      <td>Bachelor’s degree in Business, Economics, Stat...</td>\n",
       "      <td>Experience partnering or consulting cross-func...</td>\n",
       "    </tr>\n",
       "    <tr>\n",
       "      <th>10</th>\n",
       "      <td>Google</td>\n",
       "      <td>Data Analyst, Consumer Hardware</td>\n",
       "      <td>Product &amp; Customer Support</td>\n",
       "      <td>Mountain View, CA, United States</td>\n",
       "      <td>Build and maintain the Support Operations Anal...</td>\n",
       "      <td>BA/BS degree in Computer Science, Engineering,...</td>\n",
       "      <td>Experience in designing and executing structur...</td>\n",
       "    </tr>\n",
       "    <tr>\n",
       "      <th>304</th>\n",
       "      <td>Google</td>\n",
       "      <td>Data Analyst, Consumer Hardware</td>\n",
       "      <td>Product &amp; Customer Support</td>\n",
       "      <td>Mountain View, CA, United States</td>\n",
       "      <td>Build and maintain the Support Operations Anal...</td>\n",
       "      <td>BA/BS degree in Computer Science, Engineering,...</td>\n",
       "      <td>Experience in designing and executing structur...</td>\n",
       "    </tr>\n",
       "    <tr>\n",
       "      <th>329</th>\n",
       "      <td>Google</td>\n",
       "      <td>Data Analyst, Product Trust and Safety</td>\n",
       "      <td>Product &amp; Customer Support</td>\n",
       "      <td>Hyderabad, India</td>\n",
       "      <td>Excel at product policy enforcement on known s...</td>\n",
       "      <td>Bachelor's degree in Engineering or Sciences, ...</td>\n",
       "      <td>BA/BS in Computer Science, Mathematics, Statis...</td>\n",
       "    </tr>\n",
       "    <tr>\n",
       "      <th>438</th>\n",
       "      <td>Google</td>\n",
       "      <td>Data Analyst, Trust and Safety</td>\n",
       "      <td>Product &amp; Customer Support</td>\n",
       "      <td>Sunnyvale, CA, United States</td>\n",
       "      <td>Perform statistical analyses on huge data sets...</td>\n",
       "      <td>BS degree in Computer Science, Applied Mathema...</td>\n",
       "      <td>MS degree in Computer Science, Applied Mathema...</td>\n",
       "    </tr>\n",
       "    <tr>\n",
       "      <th>458</th>\n",
       "      <td>Google</td>\n",
       "      <td>Data Analyst, SMB Sales Growth Programs, Googl...</td>\n",
       "      <td>Sales Operations</td>\n",
       "      <td>Sunnyvale, CA, United States</td>\n",
       "      <td>Work closely with SMB Online Sales team to ana...</td>\n",
       "      <td>BA/BS degree in coursework of a quantitative n...</td>\n",
       "      <td>Experience with analytics and reporting, with ...</td>\n",
       "    </tr>\n",
       "  </tbody>\n",
       "</table>\n",
       "</div>"
      ],
      "text/plain": [
       "    Company                                              Title  \\\n",
       "2    Google  Data Analyst, Product and Tools Operations, Go...   \n",
       "10   Google                    Data Analyst, Consumer Hardware   \n",
       "304  Google                    Data Analyst, Consumer Hardware   \n",
       "329  Google             Data Analyst, Product Trust and Safety   \n",
       "438  Google                     Data Analyst, Trust and Safety   \n",
       "458  Google  Data Analyst, SMB Sales Growth Programs, Googl...   \n",
       "\n",
       "                       Category                          Location  \\\n",
       "2           Technical Solutions       New York, NY, United States   \n",
       "10   Product & Customer Support  Mountain View, CA, United States   \n",
       "304  Product & Customer Support  Mountain View, CA, United States   \n",
       "329  Product & Customer Support                  Hyderabad, India   \n",
       "438  Product & Customer Support      Sunnyvale, CA, United States   \n",
       "458            Sales Operations      Sunnyvale, CA, United States   \n",
       "\n",
       "                                      Responsibilities  \\\n",
       "2    Collect and analyze data to draw insight and i...   \n",
       "10   Build and maintain the Support Operations Anal...   \n",
       "304  Build and maintain the Support Operations Anal...   \n",
       "329  Excel at product policy enforcement on known s...   \n",
       "438  Perform statistical analyses on huge data sets...   \n",
       "458  Work closely with SMB Online Sales team to ana...   \n",
       "\n",
       "                                Minimum_Qualifications  \\\n",
       "2    Bachelor’s degree in Business, Economics, Stat...   \n",
       "10   BA/BS degree in Computer Science, Engineering,...   \n",
       "304  BA/BS degree in Computer Science, Engineering,...   \n",
       "329  Bachelor's degree in Engineering or Sciences, ...   \n",
       "438  BS degree in Computer Science, Applied Mathema...   \n",
       "458  BA/BS degree in coursework of a quantitative n...   \n",
       "\n",
       "                              Preferred_Qualifications  \n",
       "2    Experience partnering or consulting cross-func...  \n",
       "10   Experience in designing and executing structur...  \n",
       "304  Experience in designing and executing structur...  \n",
       "329  BA/BS in Computer Science, Mathematics, Statis...  \n",
       "438  MS degree in Computer Science, Applied Mathema...  \n",
       "458  Experience with analytics and reporting, with ...  "
      ]
     },
     "execution_count": 41,
     "metadata": {},
     "output_type": "execute_result"
    }
   ],
   "source": [
    "#Describe how to qualify to get a job at Google\n",
    "df_DataAnalyst = data.loc[data.Title.str.contains('Data Analyst').fillna(False)]\n",
    "df_DataAnalyst"
   ]
  },
  {
   "cell_type": "code",
   "execution_count": 46,
   "metadata": {},
   "outputs": [
    {
     "data": {
      "text/plain": [
       "'Collect and analyze data to draw insight and identify strategic solutions.\\nBuild consensus by facilitating broad collaboration with clear communication and documentation.\\nWork with cross-functional stakeholders to gather requirements, manage implementation, and drive delivery of projects. Build and maintain the Support Operations Analytics infrastructure.\\nCustomize and maintain tools to provide insights and visibility into key strategic and operational performance of the organization.\\nDefine and action analysis on operational data sets to provide strategic recommendations to multiple levels of leadership; package analysis for reports and presentations to shape strategic and operational decisions.\\nDraw insights from analyzing data to improve Support Operations quality and efficiency.\\nContribute to strategic planning around product launches. Build and maintain the Support Operations Analytics infrastructure.\\nCustomize and maintain tools to provide insights and visibility into key strategic and operational performance of the organization.\\nDefine and action analysis on operational data sets to provide strategic recommendations to multiple levels of leadership; package analysis for reports and presentations to shape strategic and operational decisions.\\nDraw insights from analyzing data to improve Support Operations quality and efficiency.\\nContribute to strategic planning around product launches. Excel at product policy enforcement on known spam and risk related patterns and manual investigations\\nIdentify new or emerging patterns and build operational processes to proactively handle them\\nBuild scale and efficiency through automation and intelligence and drive workflow improvements\\nCollaborate with cross-functional groups such as Engineering, Sales, and Legal to increase automation, update policies, fix product loopholes, and provide a better online experience for our users\\nWork with large and unstructured data sets to get actionable insights Perform statistical analyses on huge data sets to determine trends and develop business insights in order to protect Google’s users.\\nUtilize machine learning to scale, and optimize and automate our abuse fighting efforts.\\nAssist with designing and building infrastructure to facilitate analysis and experimentation.\\nDevelop metrics for measuring and understanding Google’s effectiveness at combating fraud. Conduct investigations into sophisticated forms of abuse, take action on fraudsters and close attack vectors.\\nTranslate business needs into data modeling initiatives and work with engineers to put predictive models into production. Work closely with SMB Online Sales team to analyze data across Google Cloud products and regions and bring consistency to web reporting setup, analysis, and data presentation.\\nPull and model data from Google Analytics and Google internal data warehouses in order to create quantitative models of business trends and measure impact of online sales growth initiatives.\\nExecute quantitative analyses that translate data into actionable insights. Provide analytical and data-driven decision-making support for key projects.\\nWork with Sales Operations, Business Intelligence, Marketing and other stakeholders to establish the right metrics for monitoring the online business.\\nCommunicate findings on a regular basis to all levels of management, including directors across Google Cloud.'"
      ]
     },
     "execution_count": 46,
     "metadata": {},
     "output_type": "execute_result"
    }
   ],
   "source": [
    "Res_DA = ' '.join(df_DataAnalyst['Responsibilities'].tolist())\n",
    "Res_DA"
   ]
  },
  {
   "cell_type": "code",
   "execution_count": 55,
   "metadata": {},
   "outputs": [
    {
     "name": "stdout",
     "output_type": "stream",
     "text": [
      "Requirement already satisfied: wordcloud in c:\\users\\eweisan\\appdata\\local\\continuum\\anaconda3\\lib\\site-packages\n",
      "Requirement already satisfied: numpy>=1.6.1 in c:\\users\\eweisan\\appdata\\local\\continuum\\anaconda3\\lib\\site-packages (from wordcloud)\n",
      "Requirement already satisfied: pillow in c:\\users\\eweisan\\appdata\\local\\continuum\\anaconda3\\lib\\site-packages (from wordcloud)\n",
      "Requirement already satisfied: matplotlib in c:\\users\\eweisan\\appdata\\local\\continuum\\anaconda3\\lib\\site-packages (from wordcloud)\n",
      "Requirement already satisfied: six>=1.10 in c:\\users\\eweisan\\appdata\\local\\continuum\\anaconda3\\lib\\site-packages (from matplotlib->wordcloud)\n",
      "Requirement already satisfied: python-dateutil>=2.1 in c:\\users\\eweisan\\appdata\\local\\continuum\\anaconda3\\lib\\site-packages (from matplotlib->wordcloud)\n",
      "Requirement already satisfied: pytz in c:\\users\\eweisan\\appdata\\local\\continuum\\anaconda3\\lib\\site-packages (from matplotlib->wordcloud)\n",
      "Requirement already satisfied: cycler>=0.10 in c:\\users\\eweisan\\appdata\\local\\continuum\\anaconda3\\lib\\site-packages (from matplotlib->wordcloud)\n",
      "Requirement already satisfied: pyparsing!=2.0.4,!=2.1.2,!=2.1.6,>=2.0.1 in c:\\users\\eweisan\\appdata\\local\\continuum\\anaconda3\\lib\\site-packages (from matplotlib->wordcloud)\n"
     ]
    },
    {
     "name": "stderr",
     "output_type": "stream",
     "text": [
      "You are using pip version 9.0.1, however version 10.0.1 is available.\n",
      "You should consider upgrading via the 'python -m pip install --upgrade pip' command.\n"
     ]
    }
   ],
   "source": [
    "#at anacomda prompt: conda install -c https://conda.anaconda.org/conda-forge wordcloud\n",
    "#Generate image --- Microsoft Visual C++ 14.0 is required\n",
    "!pip install wordcloud"
   ]
  },
  {
   "cell_type": "code",
   "execution_count": 88,
   "metadata": {},
   "outputs": [
    {
     "name": "stdout",
     "output_type": "stream",
     "text": [
      "Collecting PIL\n"
     ]
    },
    {
     "name": "stderr",
     "output_type": "stream",
     "text": [
      "  Could not find a version that satisfies the requirement PIL (from versions: )\n",
      "No matching distribution found for PIL\n",
      "You are using pip version 9.0.1, however version 10.0.1 is available.\n",
      "You should consider upgrading via the 'python -m pip install --upgrade pip' command.\n"
     ]
    }
   ],
   "source": [
    "!pip install PIL"
   ]
  },
  {
   "cell_type": "code",
   "execution_count": 89,
   "metadata": {},
   "outputs": [],
   "source": [
    "from wordcloud import WordCloud, ImageColorGenerator\n",
    "from PIL import Image"
   ]
  },
  {
   "cell_type": "code",
   "execution_count": 93,
   "metadata": {},
   "outputs": [
    {
     "data": {
      "image/png": "[encoded data removed]",
      "text/plain": [
       "<matplotlib.figure.Figure at 0xd770f60>"
      ]
     },
     "metadata": {},
     "output_type": "display_data"
    }
   ],
   "source": [
    "G = np.array(Image.open('wave.jpg'))\n",
    "sns.set(rc={'figure.figsize':(11.7,8.27)})\n",
    "\n",
    "wordcloud = WordCloud(mask=G,background_color=\"white\").generate(Res_DA)\n",
    "plt.figure()\n",
    "plt.imshow(wordcloud, interpolation=\"bilinear\")\n",
    "plt.axis(\"off\")\n",
    "plt.margins(x=0, y=0)\n",
    "plt.title('Responsibilites',size=24)\n",
    "plt.show()"
   ]
  },
  {
   "cell_type": "code",
   "execution_count": null,
   "metadata": {},
   "outputs": [],
   "source": []
  }
 ],
 "metadata": {
  "kernelspec": {
   "display_name": "Python 3",
   "language": "python",
   "name": "python3"
  },
  "language_info": {
   "codemirror_mode": {
    "name": "ipython",
    "version": 3
   },
   "file_extension": ".py",
   "mimetype": "text/x-python",
   "name": "python",
   "nbconvert_exporter": "python",
   "pygments_lexer": "ipython3",
   "version": "3.6.4"
  }
 },
 "nbformat": 4,
 "nbformat_minor": 2
}
